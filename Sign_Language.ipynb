{
  "nbformat": 4,
  "nbformat_minor": 0,
  "metadata": {
    "colab": {
      "name": "Sign Language .ipynb",
      "provenance": [],
      "collapsed_sections": []
    },
    "kernelspec": {
      "name": "python3",
      "display_name": "Python 3"
    },
    "language_info": {
      "name": "python"
    },
    "accelerator": "GPU"
  },
  "cells": [
    {
      "cell_type": "code",
      "source": [
        "# !git clone https://github.com/shireenchand/Crework-Sign-Language-Project.git"
      ],
      "metadata": {
        "id": "tyaog9Tj3vTE"
      },
      "execution_count": 23,
      "outputs": []
    },
    {
      "cell_type": "code",
      "source": [
        "!pip install ffmpeg"
      ],
      "metadata": {
        "id": "Dr329VjVFJDk",
        "colab": {
          "base_uri": "https://localhost:8080/"
        },
        "outputId": "8c402e0b-73a1-44ba-bb12-75c2f851ea90"
      },
      "execution_count": 24,
      "outputs": [
        {
          "output_type": "stream",
          "name": "stdout",
          "text": [
            "Requirement already satisfied: ffmpeg in /usr/local/lib/python3.7/dist-packages (1.4)\n"
          ]
        }
      ]
    },
    {
      "cell_type": "code",
      "source": [
        "# !python /content/Crework-Sign-Language-Project/vid.py -f /content/Crework-Sign-Language-Project/videos/svideo2.mp4 -s 3 -v h264"
      ],
      "metadata": {
        "id": "ET1NwlY3FAD2"
      },
      "execution_count": 25,
      "outputs": []
    },
    {
      "cell_type": "code",
      "source": [
        "import os\n",
        "os.chdir('/content/Crework-Sign-Language-Project')\n",
        "from vid import split_by_seconds,get_video_length\n",
        "vid_length = get_video_length('/content/Crework-Sign-Language-Project/videos/vid.mp4')\n",
        "split_by_seconds(filename='/content/Crework-Sign-Language-Project/videos/vid.mp4',split_length=3,vcodec='h264',video_length=vid_length)"
      ],
      "metadata": {
        "colab": {
          "base_uri": "https://localhost:8080/"
        },
        "id": "O1mBRXLE8A2G",
        "outputId": "3a1e0a9b-14fb-48d8-b2ed-0e56fff9ac1c"
      },
      "execution_count": 26,
      "outputs": [
        {
          "output_type": "stream",
          "name": "stdout",
          "text": [
            "Video length in seconds: 12\n"
          ]
        }
      ]
    },
    {
      "cell_type": "code",
      "source": [
        "mode = 'rgb'\n",
        "num_classes = 2000\n",
        "save_model = './checkpoints/'\n",
        "\n",
        " \n",
        "## Change to where the videos are located\n",
        "root = {'word':'videos'}"
      ],
      "metadata": {
        "id": "Y4YU5c1F8eQj"
      },
      "execution_count": 27,
      "outputs": []
    },
    {
      "cell_type": "code",
      "source": [
        "train_split = 'preprocess/nslt_2000.json'\n",
        "\n",
        "weights = '/content/Crework-Sign-Language-Project/checkpoints/nslt_2000_065846_0.447803.pt'"
      ],
      "metadata": {
        "id": "YmjLEKYh-CcV"
      },
      "execution_count": 28,
      "outputs": []
    },
    {
      "cell_type": "code",
      "source": [
        "import shutil\n",
        "import os\n",
        "shutil.move('/content/Crework-Sign-Language-Project/videos/vid.mp4','/content/vid.mp4')\n",
        "os.remove('/content/Crework-Sign-Language-Project/videos/t')"
      ],
      "metadata": {
        "id": "oRAk8dkG9lNi"
      },
      "execution_count": 29,
      "outputs": []
    },
    {
      "cell_type": "code",
      "source": [
        "import cv2 \n",
        "import os\n",
        "import random\n",
        "import json\n",
        "complete_dict = dict()\n",
        "os.chdir('/content/Crework-Sign-Language-Project/videos')\n",
        "for video in os.listdir():\n",
        "  if video == \".ipynb_checkpoints\":\n",
        "    continue\n",
        "  id = video.split('.')[0]\n",
        "  capture = cv2.VideoCapture(video)\n",
        "  frameNr = 0 \n",
        "  while (True):\n",
        "      success, frame = capture.read() \n",
        "      if success:\n",
        "       frameNr = frameNr+1\n",
        "      else:\n",
        "        break \n",
        "  \n",
        "  dictionary = {\n",
        "      str(id):{\n",
        "          \"subset\":\"test\",\n",
        "          \"action\":[random.randint(0,2000),1,frameNr]\n",
        "      }\n",
        "  }\n",
        "  complete_dict.update(dictionary)\n",
        "json_object = json.dumps(complete_dict, indent = 4)\n",
        "with open(\"/content/sample.json\", \"w\") as outfile:\n",
        "    outfile.write(json_object)\n",
        "capture.release()"
      ],
      "metadata": {
        "id": "A4NKRRnl3x8x"
      },
      "execution_count": 30,
      "outputs": []
    },
    {
      "cell_type": "code",
      "source": [
        "from torchvision import transforms\n",
        "os.chdir('/content/Crework-Sign-Language-Project')\n",
        "import videotransforms\n",
        "import numpy as np\n",
        "from datasets.nslt_dataset import NSLT as Dataset\n",
        "\n",
        "test_transforms = transforms.Compose([videotransforms.CenterCrop(224)])\n",
        "dataset = Dataset(\"/content/sample.json\", 'test', root, mode, test_transforms)"
      ],
      "metadata": {
        "colab": {
          "base_uri": "https://localhost:8080/"
        },
        "id": "uZBJ8FD1-IWD",
        "outputId": "4e6129a9-2de9-4bb2-f18e-1021dc3971b1"
      },
      "execution_count": 31,
      "outputs": [
        {
          "output_type": "stream",
          "name": "stdout",
          "text": [
            "Video #1 / 4 - videos/vid-3-of-4.mp4\n",
            "Video #2 / 4 - videos/vid-1-of-4.mp4\n",
            "Video #3 / 4 - videos/vid-4-of-4.mp4\n",
            "Video #4 / 4 - videos/vid-2-of-4.mp4\n",
            "Skipped videos:  0\n",
            "Total number of videos in the dataset:  4\n"
          ]
        }
      ]
    },
    {
      "cell_type": "code",
      "source": [
        "datasets = {'test': dataset}\n",
        "import pickle\n",
        "with open('datasets.pkl', 'wb') as f:\n",
        "    pickle.dump(datasets, f)"
      ],
      "metadata": {
        "id": "us_QBfCSYD5A"
      },
      "execution_count": 32,
      "outputs": []
    },
    {
      "cell_type": "code",
      "source": [
        "import pickle\n",
        "with open('datasets.pkl', 'rb') as f:\n",
        "   datasets = pickle.load(f)"
      ],
      "metadata": {
        "id": "eqbfFo6QYX1R"
      },
      "execution_count": 33,
      "outputs": []
    },
    {
      "cell_type": "code",
      "source": [
        "from test_i3d import *"
      ],
      "metadata": {
        "id": "pEw6LkCjYbz1"
      },
      "execution_count": 34,
      "outputs": []
    },
    {
      "cell_type": "code",
      "source": [
        "run(mode=mode, root=root, train_split=\"/content/sample.json\", weights=weights, datasets=datasets, num_classes=num_classes)"
      ],
      "metadata": {
        "colab": {
          "base_uri": "https://localhost:8080/"
        },
        "id": "RrLXmMKCYxCK",
        "outputId": "488d8364-2b1a-4b22-a12f-f0574be593aa"
      },
      "execution_count": 35,
      "outputs": [
        {
          "output_type": "stream",
          "name": "stdout",
          "text": [
            "1162\n",
            "1 / 4 vid-3-of-4 0.0 0.0 0.0\n",
            "1163\n",
            "2 / 4 vid-1-of-4 0.0 0.0 0.0\n",
            "1222\n",
            "3 / 4 vid-4-of-4 0.0 0.0 0.0\n",
            "147\n",
            "4 / 4 vid-2-of-4 0.0 0.0 0.0\n",
            "top-k average per class acc: 0.0, 0.0, 0.0\n"
          ]
        }
      ]
    },
    {
      "cell_type": "code",
      "source": [
        "with open('/content/Crework-Sign-Language-Project/predictions.txt') as f:\n",
        "  pred = f.readlines()\n",
        "f.close()"
      ],
      "metadata": {
        "id": "emJtvZ8p-Tq-"
      },
      "execution_count": 36,
      "outputs": []
    },
    {
      "cell_type": "code",
      "source": [
        "words = [i.split('\\n')[0] for i in pred ]\n",
        "words"
      ],
      "metadata": {
        "colab": {
          "base_uri": "https://localhost:8080/"
        },
        "id": "QVPCZ1xm-f5M",
        "outputId": "9d771987-683e-499c-eac0-bb0ff18b6588"
      },
      "execution_count": 37,
      "outputs": [
        {
          "output_type": "execute_result",
          "data": {
            "text/plain": [
              "['1162', '1163', '1222', '147']"
            ]
          },
          "metadata": {},
          "execution_count": 37
        }
      ]
    },
    {
      "cell_type": "code",
      "source": [
        "with open('/content/Crework-Sign-Language-Project/preprocess/wlasl_class_list.txt') as f:\n",
        "      labels = f.readlines()"
      ],
      "metadata": {
        "id": "VVzPVjso_Nec"
      },
      "execution_count": 38,
      "outputs": []
    },
    {
      "cell_type": "code",
      "source": [
        "map = {}\n",
        "for element in labels:\n",
        "  first = element.split('\\t')\n",
        "  second = first[1].split('\\n')[0]\n",
        "  map[first[0]] = second"
      ],
      "metadata": {
        "id": "pPHw_Efh_aad"
      },
      "execution_count": 39,
      "outputs": []
    },
    {
      "cell_type": "code",
      "source": [
        "text_words = [map[num] for num in words]\n",
        "text_words"
      ],
      "metadata": {
        "colab": {
          "base_uri": "https://localhost:8080/"
        },
        "id": "idIKz1sF_-QW",
        "outputId": "db2d1c36-ba88-4e45-fc53-545cbcb83ebe"
      },
      "execution_count": 40,
      "outputs": [
        {
          "output_type": "execute_result",
          "data": {
            "text/plain": [
              "['manager', 'maximum', 'shampoo', 'cold']"
            ]
          },
          "metadata": {},
          "execution_count": 40
        }
      ]
    }
  ]
}